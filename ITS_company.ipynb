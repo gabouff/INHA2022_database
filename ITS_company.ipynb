{
  "nbformat": 4,
  "nbformat_minor": 0,
  "metadata": {
    "colab": {
      "provenance": [],
      "collapsed_sections": [],
      "authorship_tag": "ABX9TyMELjLT762L8oxHDn3VYMdZ",
      "include_colab_link": true
    },
    "kernelspec": {
      "name": "python3",
      "display_name": "Python 3"
    },
    "language_info": {
      "name": "python"
    }
  },
  "cells": [
    {
      "cell_type": "markdown",
      "metadata": {
        "id": "view-in-github",
        "colab_type": "text"
      },
      "source": [
        "<a href=\"https://colab.research.google.com/github/gabouff/database_gaetan/blob/main/ITS_company.ipynb\" target=\"_parent\"><img src=\"https://colab.research.google.com/assets/colab-badge.svg\" alt=\"Open In Colab\"/></a>"
      ]
    },
    {
      "cell_type": "code",
      "source": [
        "import sqlite3\n",
        " \n",
        "conn = sqlite3.connect('ITS_db.db')\n",
        "\n",
        "print(\"database file created\")\n",
        "\n"
      ],
      "metadata": {
        "colab": {
          "base_uri": "https://localhost:8080/"
        },
        "id": "TvTp-h7l3GbO",
        "outputId": "c89d7c25-a0ea-4181-fb7d-2544440117b7"
      },
      "execution_count": 1,
      "outputs": [
        {
          "output_type": "stream",
          "name": "stdout",
          "text": [
            "database file created\n"
          ]
        }
      ]
    },
    {
      "cell_type": "code",
      "source": [
        "# creating Vehicule table\n",
        "from sqlalchemy.exc import SQLAlchemyError\n",
        "try:\n",
        "  conn.execute('''CREATE TABLE Vehicule ( VehiculeId text primary key not null,\n",
        "                                          RegistrationId text not null,\n",
        "                                          Manufacturer text not null ,\n",
        "                                          Model text not null ,\n",
        "                                          Color text not null ,\n",
        "                                          CurrentOdometer integer not null,\n",
        "                                          PassangerCapacity integer not null\n",
        "                                          );''')\n",
        "  print(\"Vehicule table created\")\n",
        "except SQLAlchemyError as e:\n",
        "  error = str(e._dict_['orig'])\n",
        "  print(error)\n",
        "\n",
        "conn.commit()"
      ],
      "metadata": {
        "colab": {
          "base_uri": "https://localhost:8080/"
        },
        "id": "sa78_0AM6SqZ",
        "outputId": "c2b5bbc4-3999-43b7-f3dd-4250d9034ce1"
      },
      "execution_count": null,
      "outputs": [
        {
          "output_type": "stream",
          "name": "stdout",
          "text": [
            "Vehicule table created\n"
          ]
        }
      ]
    },
    {
      "cell_type": "code",
      "source": [
        "# Inserting data to Vehiclue table\n",
        "conn.execute('''INSERT INTO `Vehicule`(`VehiculeId`,`RegistrationId`,`Manufacturer`,`Model`,`Color`,`CurrentOdometer`,`PassangerCapacity`)\n",
        "                                          VALUES ('V1000', '2001 ABC', 'Volvo', 'XC90 SE', 'Silver', 4350, 4),\n",
        "                                                 ('V1001', '2006 AFD', 'Kia', 'K7', 'Black', 2195, 4),\n",
        "                                                 ('V1002', '2021 AHR', 'Tesla', '2020 F', 'White', 509, 4),\n",
        "                                                 ('V1003', '2020 DXF', 'Ford', 'Transit', 'Silver', 974, 2);''')"
      ],
      "metadata": {
        "colab": {
          "base_uri": "https://localhost:8080/"
        },
        "id": "bPNOK11h-QDu",
        "outputId": "0cd67b78-33f4-48c5-d02c-49c6997b9a1b"
      },
      "execution_count": null,
      "outputs": [
        {
          "output_type": "execute_result",
          "data": {
            "text/plain": [
              "<sqlite3.Cursor at 0x7f00d5aead50>"
            ]
          },
          "metadata": {},
          "execution_count": 18
        }
      ]
    },
    {
      "cell_type": "code",
      "source": [
        "# simple test query\n",
        "cursor = conn.execute(''' SELECT * FROM Vehicule ''')\n",
        "for row in cursor:\n",
        "  print(row)"
      ],
      "metadata": {
        "id": "anRLplk0_JsM",
        "colab": {
          "base_uri": "https://localhost:8080/"
        },
        "outputId": "d7ca36de-0190-4be6-a31f-4d1cfc75d08f"
      },
      "execution_count": null,
      "outputs": [
        {
          "output_type": "stream",
          "name": "stdout",
          "text": [
            "('V1000', '2001 ABC', 'Volvo', 'XC90 SE', 'Silver', 4350, 4)\n",
            "('V1001', '2006 AFD', 'Kia', 'K7', 'Black', 2195, 4)\n",
            "('V1002', '2021 AHR', 'Tesla', '2020 F', 'White', 509, 4)\n",
            "('V1003', '2020 DXF', 'Ford', 'Transit', 'Silver', 974, 2)\n"
          ]
        }
      ]
    },
    {
      "cell_type": "code",
      "source": [
        "# delete sample table vehicule\n",
        "from sqlalchemy.exc import SQLAlchemyError\n",
        "try:\n",
        "  conn.execute('''DROP table Vehicule;''')\n",
        "  print(\"Vehicule table deleted\")\n",
        "except SQLAlchemyError as e:\n",
        "  error = str(e._dict_['orig'])\n",
        "  print(error)"
      ],
      "metadata": {
        "colab": {
          "base_uri": "https://localhost:8080/"
        },
        "id": "sGNzv8WB8F3J",
        "outputId": "13bf6d45-5617-4f99-b8ad-f0cc1b459113"
      },
      "execution_count": null,
      "outputs": [
        {
          "output_type": "stream",
          "name": "stdout",
          "text": [
            "Vehicule table deleted\n"
          ]
        }
      ]
    },
    {
      "cell_type": "code",
      "source": [
        "# creating all table\n",
        "from sqlalchemy.exc import SQLAlchemyError\n",
        "try:\n",
        "  conn.execute('''CREATE TABLE vehicule(\n",
        "  vehicule_id TEXT NOT NULL,\n",
        "  registration_id TEXT NOT NULL,\n",
        "  manufacturer TEXT NOT NULL,\n",
        "  maintenance_status_id INTEGER NOT NULL,\n",
        "  model TEXT NOT NULL,\n",
        "  color TEXT NOT NULL,\n",
        "  capacity INTEGER NOT NULL,\n",
        "  odometer INTEGER NOT NULL,\n",
        "  availability TEXT NOT NULL,\n",
        "  PRIMARY KEY(vehicule_id),\n",
        "  CONSTRAINT \"odometer key\" UNIQUE(odometer),\n",
        "  CONSTRAINT maintenance_status_vehicule\n",
        "    FOREIGN KEY (maintenance_status_id) REFERENCES maintenance_status (id)\n",
        "  );''')\n",
        "\n",
        "\n",
        "  conn.execute('''CREATE TABLE driver(\n",
        "  name TEXT NOT NULL,\n",
        "  clearance_level TEXT NOT NULL,\n",
        "  language TEXT NOT NULL,\n",
        "  \"FATL_id\" INTEGER NOT NULL,\n",
        "  \"STLVT_id\" INTEGER NOT NULL,\n",
        "  license_number INTEGER NOT NULL,\n",
        "  PRIMARY KEY(license_number),\n",
        "  CONSTRAINT \"FATL_driver\" FOREIGN KEY (\"FATL_id\") REFERENCES \"FATL\" (id),\n",
        "  CONSTRAINT \"STLVT_driver\" FOREIGN KEY (\"STLVT_id\") REFERENCES \"STLVT\" (id)\n",
        "  );''')\n",
        "\n",
        "  conn.execute('''CREATE TABLE booking(\n",
        "  ref_number INTEGER NOT NULL,\n",
        "  driver_license_number INTEGER NOT NULL,\n",
        "  \"Official_id\" INTEGER NOT NULL,\n",
        "  trip_trip_id TEXT NOT NULL,\n",
        "  PRIMARY KEY(ref_number),\n",
        "  CONSTRAINT driver_booking\n",
        "    FOREIGN KEY (driver_license_number) REFERENCES driver (license_number),\n",
        "  CONSTRAINT \"Official_booking\"\n",
        "    FOREIGN KEY (\"Official_id\") REFERENCES \"Official\" (id),\n",
        "  CONSTRAINT trip_booking FOREIGN KEY (trip_trip_id) REFERENCES trip (trip_id)\n",
        "  );''')\n",
        "\n",
        "  conn.execute('''CREATE TABLE \"Official\"(\n",
        "  id INTEGER NOT NULL,\n",
        "  based_city TEXT NOT NULL,\n",
        "  name TEXT NOT NULL,\n",
        "  role TEXT NOT NULL,\n",
        "  preferred_language TEXT NOT NULL,\n",
        "  country TEXT NOT NULL,\n",
        "  PRIMARY KEY(id),\n",
        "  CONSTRAINT \"country_Official\"\n",
        "    FOREIGN KEY (country) REFERENCES country (country_name)\n",
        "  );''')\n",
        "\n",
        "  conn.execute('''CREATE TABLE \"FATL\"(\n",
        "  id INTEGER NOT NULL,\n",
        "  level INTEGER NOT NULL,\n",
        "  qualification_date INTEGER NOT NULL,\n",
        "  PRIMARY KEY(id)\n",
        "  );''')\n",
        "\n",
        "  conn.execute('''CREATE TABLE \"STLVT\"(\n",
        "  id INTEGER NOT NULL,\n",
        "  level INTEGER NOT NULL,\n",
        "  qualification_date INTEGER NOT NULL,\n",
        "  certifying_authority TEXT NOT NULL,\n",
        "  PRIMARY KEY(id)\n",
        "  );''')\n",
        "\n",
        "  conn.execute('''CREATE TABLE maintenance_status(\n",
        "  id INTEGER NOT NULL,\n",
        "  action_type TEXT,\n",
        "  final_cost INTEGER,\n",
        "  action_description TEXT,\n",
        "  date INTEGER,\n",
        "  vehicule_odometer INTEGER NOT NULL,\n",
        "  PRIMARY KEY(id),\n",
        "  CONSTRAINT \"vehicule_maintenanceStatus\"\n",
        "    FOREIGN KEY (vehicule_odometer) REFERENCES vehicule (odometer)\n",
        "  );''')\n",
        "\n",
        "  conn.execute('''CREATE TABLE trip(\n",
        "  trip_id TEXT NOT NULL,\n",
        "  vehicule_vehicule_id TEXT NOT NULL,\n",
        "  start_date_time INTEGER NOT NULL,\n",
        "  end_date_time INTEGER NOT NULL,\n",
        "  start_odometer INTEGER NOT NULL,\n",
        "  drop_off_location_name TEXT NOT NULL,\n",
        "  end_odometer INTEGER NOT NULL,\n",
        "  pickup_location_name TEXT NOT NULL,\n",
        "  PRIMARY KEY(trip_id),\n",
        "  CONSTRAINT vehicule_trip\n",
        "    FOREIGN KEY (vehicule_vehicule_id) REFERENCES vehicule (vehicule_id),\n",
        "  CONSTRAINT drop_off_trip\n",
        "    FOREIGN KEY (drop_off_location_name) REFERENCES drop_off (location_name),\n",
        "  CONSTRAINT pick_up_trip\n",
        "    FOREIGN KEY (pickup_location_name) REFERENCES pickup (location_name)\n",
        "  );''')\n",
        "\n",
        "  conn.execute('''CREATE TABLE country(\n",
        "  country_name TEXT NOT NULL, most_spoken_language TEXT NOT NULL,\n",
        "  PRIMARY KEY(country_name)\n",
        "  );''')\n",
        "\n",
        "  conn.execute('''CREATE TABLE drop_off(\n",
        "  location_name TEXT NOT NULL,\n",
        "  street_number INTEGER,\n",
        "  city TEXT NOT NULL,\n",
        "  type TEXT NOT NULL,\n",
        "  PRIMARY KEY(location_name)\n",
        "  );''')\n",
        "\n",
        "  conn.execute('''CREATE TABLE pickup(\n",
        "  location_name TEXT NOT NULL,\n",
        "  street_number INTEGER,\n",
        "  city TEXT NOT NULL,\n",
        "  type TEXT NOT NULL,\n",
        "  PRIMARY KEY(location_name)\n",
        "  );''')\n",
        "\n",
        "  print(\"All tables created\")\n",
        "except SQLAlchemyError as e:\n",
        "  error = str(e._dict_['orig'])\n",
        "  print(error)\n",
        "\n",
        "conn.commit()\n"
      ],
      "metadata": {
        "colab": {
          "base_uri": "https://localhost:8080/"
        },
        "id": "aghfq9fPZM0u",
        "outputId": "a78072e8-750e-4f44-c261-c49ad37267a9"
      },
      "execution_count": 2,
      "outputs": [
        {
          "output_type": "stream",
          "name": "stdout",
          "text": [
            "All tables created\n"
          ]
        }
      ]
    },
    {
      "cell_type": "code",
      "source": [
        "# Inserting data to Vehiclue table\n",
        "conn.execute('''INSERT INTO `pickup`(`location_name`,`street_number`,`city`,`type`)\n",
        "                                          VALUES ('Avis', '24', 'paris', 'XC90 SE'),\n",
        "                                                 ('Europcar', '2006', 'nice', 'K7'),\n",
        "                                                 ('Sixt', '58', 'rennes', '2020 F'),\n",
        "                                                 ('Hertz', '5', 'strasbourg', 'Transit');''')"
      ],
      "metadata": {
        "colab": {
          "base_uri": "https://localhost:8080/"
        },
        "id": "Oj9SceWfcBTG",
        "outputId": "1ab9e9fe-8fe0-45ab-a44d-96f620f8bd58"
      },
      "execution_count": 3,
      "outputs": [
        {
          "output_type": "execute_result",
          "data": {
            "text/plain": [
              "<sqlite3.Cursor at 0x7f9655b8cb90>"
            ]
          },
          "metadata": {},
          "execution_count": 3
        }
      ]
    },
    {
      "cell_type": "code",
      "source": [
        "# simple test queries\n",
        "cursor = conn.execute(''' SELECT * FROM pickup ''')\n",
        "for row in cursor:\n",
        "  print(row)"
      ],
      "metadata": {
        "colab": {
          "base_uri": "https://localhost:8080/"
        },
        "id": "Q8av9WlRduGf",
        "outputId": "8aea4718-1961-43a4-d9bd-6356a5f8f0c1"
      },
      "execution_count": null,
      "outputs": [
        {
          "output_type": "stream",
          "name": "stdout",
          "text": [
            "('Avis', 24, 'paris', 'XC90 SE')\n",
            "('Europcar', 2006, 'nice', 'K7')\n",
            "('Sixt', 58, 'rennes', '2020 F')\n",
            "('Hertz', 5, 'strasbourg', 'Transit')\n"
          ]
        }
      ]
    },
    {
      "cell_type": "code",
      "source": [
        "from google.colab import files\n",
        "upload = files.upload()"
      ],
      "metadata": {
        "colab": {
          "base_uri": "https://localhost:8080/",
          "height": 74
        },
        "id": "lCjDh0pwulFS",
        "outputId": "a0acb2ad-fad8-4f3a-a6db-82fcaea87148"
      },
      "execution_count": 4,
      "outputs": [
        {
          "output_type": "display_data",
          "data": {
            "text/plain": [
              "<IPython.core.display.HTML object>"
            ],
            "text/html": [
              "\n",
              "     <input type=\"file\" id=\"files-4fcc8f1a-baa5-45d0-a6ab-c8e7869a3886\" name=\"files[]\" multiple disabled\n",
              "        style=\"border:none\" />\n",
              "     <output id=\"result-4fcc8f1a-baa5-45d0-a6ab-c8e7869a3886\">\n",
              "      Upload widget is only available when the cell has been executed in the\n",
              "      current browser session. Please rerun this cell to enable.\n",
              "      </output>\n",
              "      <script>// Copyright 2017 Google LLC\n",
              "//\n",
              "// Licensed under the Apache License, Version 2.0 (the \"License\");\n",
              "// you may not use this file except in compliance with the License.\n",
              "// You may obtain a copy of the License at\n",
              "//\n",
              "//      http://www.apache.org/licenses/LICENSE-2.0\n",
              "//\n",
              "// Unless required by applicable law or agreed to in writing, software\n",
              "// distributed under the License is distributed on an \"AS IS\" BASIS,\n",
              "// WITHOUT WARRANTIES OR CONDITIONS OF ANY KIND, either express or implied.\n",
              "// See the License for the specific language governing permissions and\n",
              "// limitations under the License.\n",
              "\n",
              "/**\n",
              " * @fileoverview Helpers for google.colab Python module.\n",
              " */\n",
              "(function(scope) {\n",
              "function span(text, styleAttributes = {}) {\n",
              "  const element = document.createElement('span');\n",
              "  element.textContent = text;\n",
              "  for (const key of Object.keys(styleAttributes)) {\n",
              "    element.style[key] = styleAttributes[key];\n",
              "  }\n",
              "  return element;\n",
              "}\n",
              "\n",
              "// Max number of bytes which will be uploaded at a time.\n",
              "const MAX_PAYLOAD_SIZE = 100 * 1024;\n",
              "\n",
              "function _uploadFiles(inputId, outputId) {\n",
              "  const steps = uploadFilesStep(inputId, outputId);\n",
              "  const outputElement = document.getElementById(outputId);\n",
              "  // Cache steps on the outputElement to make it available for the next call\n",
              "  // to uploadFilesContinue from Python.\n",
              "  outputElement.steps = steps;\n",
              "\n",
              "  return _uploadFilesContinue(outputId);\n",
              "}\n",
              "\n",
              "// This is roughly an async generator (not supported in the browser yet),\n",
              "// where there are multiple asynchronous steps and the Python side is going\n",
              "// to poll for completion of each step.\n",
              "// This uses a Promise to block the python side on completion of each step,\n",
              "// then passes the result of the previous step as the input to the next step.\n",
              "function _uploadFilesContinue(outputId) {\n",
              "  const outputElement = document.getElementById(outputId);\n",
              "  const steps = outputElement.steps;\n",
              "\n",
              "  const next = steps.next(outputElement.lastPromiseValue);\n",
              "  return Promise.resolve(next.value.promise).then((value) => {\n",
              "    // Cache the last promise value to make it available to the next\n",
              "    // step of the generator.\n",
              "    outputElement.lastPromiseValue = value;\n",
              "    return next.value.response;\n",
              "  });\n",
              "}\n",
              "\n",
              "/**\n",
              " * Generator function which is called between each async step of the upload\n",
              " * process.\n",
              " * @param {string} inputId Element ID of the input file picker element.\n",
              " * @param {string} outputId Element ID of the output display.\n",
              " * @return {!Iterable<!Object>} Iterable of next steps.\n",
              " */\n",
              "function* uploadFilesStep(inputId, outputId) {\n",
              "  const inputElement = document.getElementById(inputId);\n",
              "  inputElement.disabled = false;\n",
              "\n",
              "  const outputElement = document.getElementById(outputId);\n",
              "  outputElement.innerHTML = '';\n",
              "\n",
              "  const pickedPromise = new Promise((resolve) => {\n",
              "    inputElement.addEventListener('change', (e) => {\n",
              "      resolve(e.target.files);\n",
              "    });\n",
              "  });\n",
              "\n",
              "  const cancel = document.createElement('button');\n",
              "  inputElement.parentElement.appendChild(cancel);\n",
              "  cancel.textContent = 'Cancel upload';\n",
              "  const cancelPromise = new Promise((resolve) => {\n",
              "    cancel.onclick = () => {\n",
              "      resolve(null);\n",
              "    };\n",
              "  });\n",
              "\n",
              "  // Wait for the user to pick the files.\n",
              "  const files = yield {\n",
              "    promise: Promise.race([pickedPromise, cancelPromise]),\n",
              "    response: {\n",
              "      action: 'starting',\n",
              "    }\n",
              "  };\n",
              "\n",
              "  cancel.remove();\n",
              "\n",
              "  // Disable the input element since further picks are not allowed.\n",
              "  inputElement.disabled = true;\n",
              "\n",
              "  if (!files) {\n",
              "    return {\n",
              "      response: {\n",
              "        action: 'complete',\n",
              "      }\n",
              "    };\n",
              "  }\n",
              "\n",
              "  for (const file of files) {\n",
              "    const li = document.createElement('li');\n",
              "    li.append(span(file.name, {fontWeight: 'bold'}));\n",
              "    li.append(span(\n",
              "        `(${file.type || 'n/a'}) - ${file.size} bytes, ` +\n",
              "        `last modified: ${\n",
              "            file.lastModifiedDate ? file.lastModifiedDate.toLocaleDateString() :\n",
              "                                    'n/a'} - `));\n",
              "    const percent = span('0% done');\n",
              "    li.appendChild(percent);\n",
              "\n",
              "    outputElement.appendChild(li);\n",
              "\n",
              "    const fileDataPromise = new Promise((resolve) => {\n",
              "      const reader = new FileReader();\n",
              "      reader.onload = (e) => {\n",
              "        resolve(e.target.result);\n",
              "      };\n",
              "      reader.readAsArrayBuffer(file);\n",
              "    });\n",
              "    // Wait for the data to be ready.\n",
              "    let fileData = yield {\n",
              "      promise: fileDataPromise,\n",
              "      response: {\n",
              "        action: 'continue',\n",
              "      }\n",
              "    };\n",
              "\n",
              "    // Use a chunked sending to avoid message size limits. See b/62115660.\n",
              "    let position = 0;\n",
              "    do {\n",
              "      const length = Math.min(fileData.byteLength - position, MAX_PAYLOAD_SIZE);\n",
              "      const chunk = new Uint8Array(fileData, position, length);\n",
              "      position += length;\n",
              "\n",
              "      const base64 = btoa(String.fromCharCode.apply(null, chunk));\n",
              "      yield {\n",
              "        response: {\n",
              "          action: 'append',\n",
              "          file: file.name,\n",
              "          data: base64,\n",
              "        },\n",
              "      };\n",
              "\n",
              "      let percentDone = fileData.byteLength === 0 ?\n",
              "          100 :\n",
              "          Math.round((position / fileData.byteLength) * 100);\n",
              "      percent.textContent = `${percentDone}% done`;\n",
              "\n",
              "    } while (position < fileData.byteLength);\n",
              "  }\n",
              "\n",
              "  // All done.\n",
              "  yield {\n",
              "    response: {\n",
              "      action: 'complete',\n",
              "    }\n",
              "  };\n",
              "}\n",
              "\n",
              "scope.google = scope.google || {};\n",
              "scope.google.colab = scope.google.colab || {};\n",
              "scope.google.colab._files = {\n",
              "  _uploadFiles,\n",
              "  _uploadFilesContinue,\n",
              "};\n",
              "})(self);\n",
              "</script> "
            ]
          },
          "metadata": {}
        },
        {
          "output_type": "stream",
          "name": "stdout",
          "text": [
            "Saving countries.csv to countries.csv\n"
          ]
        }
      ]
    },
    {
      "cell_type": "code",
      "source": [
        "import pandas as pd \n",
        "df=pd.read_csv('countries.csv')\n"
      ],
      "metadata": {
        "id": "XYrpDEYtusT7"
      },
      "execution_count": 16,
      "outputs": []
    },
    {
      "cell_type": "code",
      "source": [
        "print(df[:5])"
      ],
      "metadata": {
        "colab": {
          "base_uri": "https://localhost:8080/"
        },
        "id": "tFLRzyhXvpIY",
        "outputId": "ce28f6a8-8712-4935-81fc-9d846940926d"
      },
      "execution_count": 10,
      "outputs": [
        {
          "output_type": "stream",
          "name": "stdout",
          "text": [
            "             Name Code\n",
            "0     Afghanistan   AF\n",
            "1  Ã…land Islands   AX\n",
            "2         Albania   AL\n",
            "3         Algeria   DZ\n",
            "4  American Samoa   AS\n"
          ]
        }
      ]
    },
    {
      "cell_type": "code",
      "source": [
        "countries_name = pd.read_csv('countries.csv', usecols=['Name'])\n",
        "countries_code = pd.read_csv('countries.csv', usecols=['Code'])"
      ],
      "metadata": {
        "id": "KhgV35Vi0o1O"
      },
      "execution_count": 18,
      "outputs": []
    },
    {
      "cell_type": "code",
      "source": [
        "!pip install kaggle"
      ],
      "metadata": {
        "colab": {
          "base_uri": "https://localhost:8080/"
        },
        "id": "gb5rU9da7AkX",
        "outputId": "cbaa8978-7591-4ed7-97ee-7d873d208805"
      },
      "execution_count": 26,
      "outputs": [
        {
          "output_type": "stream",
          "name": "stdout",
          "text": [
            "Looking in indexes: https://pypi.org/simple, https://us-python.pkg.dev/colab-wheels/public/simple/\n",
            "Requirement already satisfied: kaggle in /usr/local/lib/python3.7/dist-packages (1.5.12)\n",
            "Requirement already satisfied: six>=1.10 in /usr/local/lib/python3.7/dist-packages (from kaggle) (1.15.0)\n",
            "Requirement already satisfied: tqdm in /usr/local/lib/python3.7/dist-packages (from kaggle) (4.64.1)\n",
            "Requirement already satisfied: requests in /usr/local/lib/python3.7/dist-packages (from kaggle) (2.23.0)\n",
            "Requirement already satisfied: certifi in /usr/local/lib/python3.7/dist-packages (from kaggle) (2022.9.24)\n",
            "Requirement already satisfied: urllib3 in /usr/local/lib/python3.7/dist-packages (from kaggle) (1.24.3)\n",
            "Requirement already satisfied: python-slugify in /usr/local/lib/python3.7/dist-packages (from kaggle) (6.1.2)\n",
            "Requirement already satisfied: python-dateutil in /usr/local/lib/python3.7/dist-packages (from kaggle) (2.8.2)\n",
            "Requirement already satisfied: text-unidecode>=1.3 in /usr/local/lib/python3.7/dist-packages (from python-slugify->kaggle) (1.3)\n",
            "Requirement already satisfied: chardet<4,>=3.0.2 in /usr/local/lib/python3.7/dist-packages (from requests->kaggle) (3.0.4)\n",
            "Requirement already satisfied: idna<3,>=2.5 in /usr/local/lib/python3.7/dist-packages (from requests->kaggle) (2.10)\n"
          ]
        }
      ]
    },
    {
      "cell_type": "code",
      "source": [
        "from google.colab import files\n",
        "upload = files.upload()"
      ],
      "metadata": {
        "colab": {
          "base_uri": "https://localhost:8080/",
          "height": 74
        },
        "id": "vi4RGr927InJ",
        "outputId": "0e6acdf3-fd1b-4549-9ca4-25d43b4fb856"
      },
      "execution_count": 30,
      "outputs": [
        {
          "output_type": "display_data",
          "data": {
            "text/plain": [
              "<IPython.core.display.HTML object>"
            ],
            "text/html": [
              "\n",
              "     <input type=\"file\" id=\"files-cfdabbf0-fbdf-4685-9c41-463b74dd681e\" name=\"files[]\" multiple disabled\n",
              "        style=\"border:none\" />\n",
              "     <output id=\"result-cfdabbf0-fbdf-4685-9c41-463b74dd681e\">\n",
              "      Upload widget is only available when the cell has been executed in the\n",
              "      current browser session. Please rerun this cell to enable.\n",
              "      </output>\n",
              "      <script>// Copyright 2017 Google LLC\n",
              "//\n",
              "// Licensed under the Apache License, Version 2.0 (the \"License\");\n",
              "// you may not use this file except in compliance with the License.\n",
              "// You may obtain a copy of the License at\n",
              "//\n",
              "//      http://www.apache.org/licenses/LICENSE-2.0\n",
              "//\n",
              "// Unless required by applicable law or agreed to in writing, software\n",
              "// distributed under the License is distributed on an \"AS IS\" BASIS,\n",
              "// WITHOUT WARRANTIES OR CONDITIONS OF ANY KIND, either express or implied.\n",
              "// See the License for the specific language governing permissions and\n",
              "// limitations under the License.\n",
              "\n",
              "/**\n",
              " * @fileoverview Helpers for google.colab Python module.\n",
              " */\n",
              "(function(scope) {\n",
              "function span(text, styleAttributes = {}) {\n",
              "  const element = document.createElement('span');\n",
              "  element.textContent = text;\n",
              "  for (const key of Object.keys(styleAttributes)) {\n",
              "    element.style[key] = styleAttributes[key];\n",
              "  }\n",
              "  return element;\n",
              "}\n",
              "\n",
              "// Max number of bytes which will be uploaded at a time.\n",
              "const MAX_PAYLOAD_SIZE = 100 * 1024;\n",
              "\n",
              "function _uploadFiles(inputId, outputId) {\n",
              "  const steps = uploadFilesStep(inputId, outputId);\n",
              "  const outputElement = document.getElementById(outputId);\n",
              "  // Cache steps on the outputElement to make it available for the next call\n",
              "  // to uploadFilesContinue from Python.\n",
              "  outputElement.steps = steps;\n",
              "\n",
              "  return _uploadFilesContinue(outputId);\n",
              "}\n",
              "\n",
              "// This is roughly an async generator (not supported in the browser yet),\n",
              "// where there are multiple asynchronous steps and the Python side is going\n",
              "// to poll for completion of each step.\n",
              "// This uses a Promise to block the python side on completion of each step,\n",
              "// then passes the result of the previous step as the input to the next step.\n",
              "function _uploadFilesContinue(outputId) {\n",
              "  const outputElement = document.getElementById(outputId);\n",
              "  const steps = outputElement.steps;\n",
              "\n",
              "  const next = steps.next(outputElement.lastPromiseValue);\n",
              "  return Promise.resolve(next.value.promise).then((value) => {\n",
              "    // Cache the last promise value to make it available to the next\n",
              "    // step of the generator.\n",
              "    outputElement.lastPromiseValue = value;\n",
              "    return next.value.response;\n",
              "  });\n",
              "}\n",
              "\n",
              "/**\n",
              " * Generator function which is called between each async step of the upload\n",
              " * process.\n",
              " * @param {string} inputId Element ID of the input file picker element.\n",
              " * @param {string} outputId Element ID of the output display.\n",
              " * @return {!Iterable<!Object>} Iterable of next steps.\n",
              " */\n",
              "function* uploadFilesStep(inputId, outputId) {\n",
              "  const inputElement = document.getElementById(inputId);\n",
              "  inputElement.disabled = false;\n",
              "\n",
              "  const outputElement = document.getElementById(outputId);\n",
              "  outputElement.innerHTML = '';\n",
              "\n",
              "  const pickedPromise = new Promise((resolve) => {\n",
              "    inputElement.addEventListener('change', (e) => {\n",
              "      resolve(e.target.files);\n",
              "    });\n",
              "  });\n",
              "\n",
              "  const cancel = document.createElement('button');\n",
              "  inputElement.parentElement.appendChild(cancel);\n",
              "  cancel.textContent = 'Cancel upload';\n",
              "  const cancelPromise = new Promise((resolve) => {\n",
              "    cancel.onclick = () => {\n",
              "      resolve(null);\n",
              "    };\n",
              "  });\n",
              "\n",
              "  // Wait for the user to pick the files.\n",
              "  const files = yield {\n",
              "    promise: Promise.race([pickedPromise, cancelPromise]),\n",
              "    response: {\n",
              "      action: 'starting',\n",
              "    }\n",
              "  };\n",
              "\n",
              "  cancel.remove();\n",
              "\n",
              "  // Disable the input element since further picks are not allowed.\n",
              "  inputElement.disabled = true;\n",
              "\n",
              "  if (!files) {\n",
              "    return {\n",
              "      response: {\n",
              "        action: 'complete',\n",
              "      }\n",
              "    };\n",
              "  }\n",
              "\n",
              "  for (const file of files) {\n",
              "    const li = document.createElement('li');\n",
              "    li.append(span(file.name, {fontWeight: 'bold'}));\n",
              "    li.append(span(\n",
              "        `(${file.type || 'n/a'}) - ${file.size} bytes, ` +\n",
              "        `last modified: ${\n",
              "            file.lastModifiedDate ? file.lastModifiedDate.toLocaleDateString() :\n",
              "                                    'n/a'} - `));\n",
              "    const percent = span('0% done');\n",
              "    li.appendChild(percent);\n",
              "\n",
              "    outputElement.appendChild(li);\n",
              "\n",
              "    const fileDataPromise = new Promise((resolve) => {\n",
              "      const reader = new FileReader();\n",
              "      reader.onload = (e) => {\n",
              "        resolve(e.target.result);\n",
              "      };\n",
              "      reader.readAsArrayBuffer(file);\n",
              "    });\n",
              "    // Wait for the data to be ready.\n",
              "    let fileData = yield {\n",
              "      promise: fileDataPromise,\n",
              "      response: {\n",
              "        action: 'continue',\n",
              "      }\n",
              "    };\n",
              "\n",
              "    // Use a chunked sending to avoid message size limits. See b/62115660.\n",
              "    let position = 0;\n",
              "    do {\n",
              "      const length = Math.min(fileData.byteLength - position, MAX_PAYLOAD_SIZE);\n",
              "      const chunk = new Uint8Array(fileData, position, length);\n",
              "      position += length;\n",
              "\n",
              "      const base64 = btoa(String.fromCharCode.apply(null, chunk));\n",
              "      yield {\n",
              "        response: {\n",
              "          action: 'append',\n",
              "          file: file.name,\n",
              "          data: base64,\n",
              "        },\n",
              "      };\n",
              "\n",
              "      let percentDone = fileData.byteLength === 0 ?\n",
              "          100 :\n",
              "          Math.round((position / fileData.byteLength) * 100);\n",
              "      percent.textContent = `${percentDone}% done`;\n",
              "\n",
              "    } while (position < fileData.byteLength);\n",
              "  }\n",
              "\n",
              "  // All done.\n",
              "  yield {\n",
              "    response: {\n",
              "      action: 'complete',\n",
              "    }\n",
              "  };\n",
              "}\n",
              "\n",
              "scope.google = scope.google || {};\n",
              "scope.google.colab = scope.google.colab || {};\n",
              "scope.google.colab._files = {\n",
              "  _uploadFiles,\n",
              "  _uploadFilesContinue,\n",
              "};\n",
              "})(self);\n",
              "</script> "
            ]
          },
          "metadata": {}
        },
        {
          "output_type": "stream",
          "name": "stdout",
          "text": [
            "Saving kaggle.json to kaggle.json\n"
          ]
        }
      ]
    },
    {
      "cell_type": "code",
      "source": [
        "!mkdir ~/.kaggle\n",
        "!cp kaggle.json ~/.kaggle/\n",
        "!chmod 600 ~/.kaggle/kaggle.json"
      ],
      "metadata": {
        "colab": {
          "base_uri": "https://localhost:8080/"
        },
        "id": "_2RpA6LF8vZP",
        "outputId": "67ae9ef4-d38a-4c25-9494-d2e937c90f63"
      },
      "execution_count": 31,
      "outputs": [
        {
          "output_type": "stream",
          "name": "stdout",
          "text": [
            "mkdir: cannot create directory ‘/root/.kaggle’: File exists\n"
          ]
        }
      ]
    },
    {
      "cell_type": "code",
      "source": [
        "!kaggle datasets list"
      ],
      "metadata": {
        "colab": {
          "base_uri": "https://localhost:8080/"
        },
        "id": "BtasjyRL8-eR",
        "outputId": "fc0c924a-d883-44f1-81ac-7bb206b99080"
      },
      "execution_count": 32,
      "outputs": [
        {
          "output_type": "stream",
          "name": "stdout",
          "text": [
            "ref                                                             title                                                size  lastUpdated          downloadCount  voteCount  usabilityRating  \n",
            "--------------------------------------------------------------  --------------------------------------------------  -----  -------------------  -------------  ---------  ---------------  \n",
            "akshaydattatraykhare/diabetes-dataset                           Diabetes Dataset                                      9KB  2022-10-06 08:55:25           5135        170  1.0              \n",
            "vittoriogiatti/bigmacprice                                      Bigmac Prices                                        14KB  2022-10-19 21:11:14           1123         32  1.0              \n",
            "whenamancodes/covid-19-coronavirus-pandemic-dataset             COVID -19 Coronavirus Pandemic Dataset               11KB  2022-09-30 04:05:11           4241        122  1.0              \n",
            "thedevastator/fast-food-restaurants-in-the-united-states        Fast Food Restaurants in the United States            4MB  2022-10-08 17:30:38           1468         41  1.0              \n",
            "whenamancodes/students-performance-in-exams                     Students Performance in Exams                         9KB  2022-09-14 15:14:54           7800        141  1.0              \n",
            "whenamancodes/student-performance                               Student Performance                                 104KB  2022-10-07 05:14:47           5650        133  1.0              \n",
            "anushabellam/cars-cars-2                                        Cars_India_dataset                                    4KB  2022-10-12 06:34:20            870         31  1.0              \n",
            "iamsouravbanerjee/computer-games-dataset                        Computer Games Dataset                               29KB  2022-10-11 14:36:33            612         44  1.0              \n",
            "whenamancodes/flight-delay-prediction                           Flight Delay Prediction                              31MB  2022-10-07 05:26:20           1514         36  0.88235295       \n",
            "narayan63/netflix-popular-movies-dataset                        Netflix popular movies dataset                        1MB  2022-09-24 08:23:22           3768         60  0.9411765        \n",
            "evangower/premier-league-matches-19922022                       Premier League Matches 1992-2022                     78KB  2022-10-03 02:18:33           1391         47  1.0              \n",
            "whenamancodes/alcohol-effects-on-study                          Alcohol Effects On Study                             18KB  2022-09-15 03:21:04           4882         91  1.0              \n",
            "kathuman/housing                                                Housing                                             400KB  2022-09-29 10:21:23            853         26  1.0              \n",
            "whenamancodes/the-global-hunger-index                           The Global Hunger Index                              27KB  2022-09-13 18:18:01           1556         41  1.0              \n",
            "eliasturk/world-happiness-based-on-cpi-20152020                 Happiness and Corruption 2015-2020                   29KB  2022-10-11 22:35:03            920         31  1.0              \n",
            "jfreyberg/spotify-artist-feature-collaboration-network          Spotify Artist Feature Collaboration Network         15MB  2022-10-10 14:11:34            586         33  0.9117647        \n",
            "pantanjali/unemployment-dataset                                 Unemployment dataset                                 17KB  2022-09-08 08:26:10           6742        144  1.0              \n",
            "adnananam/spotify-artist-stats                                  Spotify Artist Stats                                 28KB  2022-09-22 03:22:44           1664         39  1.0              \n",
            "thedevastator/fuel-economy-data-how-efficient-are-today-s-cars  Fuel Economy Data: How Efficient Are Today's Cars?    1MB  2022-10-09 16:47:41            958         31  0.9411765        \n",
            "thedevastator/a-complete-history-of-nobel-prize-winners         Nobel Prize Winners                                   1MB  2022-10-08 00:09:57            847         29  1.0              \n"
          ]
        }
      ]
    },
    {
      "cell_type": "code",
      "source": [
        "!kaggle datasets download -d fernandol/countries-of-the-world"
      ],
      "metadata": {
        "colab": {
          "base_uri": "https://localhost:8080/"
        },
        "id": "IMPLwhqw7LP0",
        "outputId": "35856c46-09f4-4f37-8b16-2ffec782fbd3"
      },
      "execution_count": 33,
      "outputs": [
        {
          "output_type": "stream",
          "name": "stdout",
          "text": [
            "Downloading countries-of-the-world.zip to /content\n",
            "\r  0% 0.00/13.4k [00:00<?, ?B/s]\n",
            "\r100% 13.4k/13.4k [00:00<00:00, 8.78MB/s]\n"
          ]
        }
      ]
    },
    {
      "cell_type": "code",
      "source": [
        "!unzip countries-of-the-world.zip -d countries-of-the-world"
      ],
      "metadata": {
        "colab": {
          "base_uri": "https://localhost:8080/"
        },
        "id": "cawdOYtA90uK",
        "outputId": "689fff21-eca5-4dc2-c89c-c0f64aa0b1e0"
      },
      "execution_count": 34,
      "outputs": [
        {
          "output_type": "stream",
          "name": "stdout",
          "text": [
            "Archive:  countries-of-the-world.zip\n",
            "  inflating: countries-of-the-world/countries of the world.csv  \n"
          ]
        }
      ]
    }
  ]
}